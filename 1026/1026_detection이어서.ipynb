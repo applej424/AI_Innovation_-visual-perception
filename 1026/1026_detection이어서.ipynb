{
 "cells": [
  {
   "cell_type": "code",
   "execution_count": null,
   "metadata": {},
   "outputs": [],
   "source": [
    "1026 "
   ]
  },
  {
   "cell_type": "code",
   "execution_count": 4,
   "metadata": {},
   "outputs": [],
   "source": [
    "import xml.etree.ElementTree as ET  "
   ]
  },
  {
   "cell_type": "code",
   "execution_count": 5,
   "metadata": {},
   "outputs": [
    {
     "data": {
      "text/plain": [
       "['Comment',\n",
       " 'Element',\n",
       " 'ElementPath',\n",
       " 'ElementTree',\n",
       " 'HTML_EMPTY',\n",
       " 'PI',\n",
       " 'ParseError',\n",
       " 'ProcessingInstruction',\n",
       " 'QName',\n",
       " 'SubElement',\n",
       " 'TreeBuilder',\n",
       " 'VERSION',\n",
       " 'XML',\n",
       " 'XMLID',\n",
       " 'XMLParser',\n",
       " 'XMLPullParser',\n",
       " '_Element_Py',\n",
       " '_ListDataStream',\n",
       " '__all__',\n",
       " '__builtins__',\n",
       " '__cached__',\n",
       " '__doc__',\n",
       " '__file__',\n",
       " '__loader__',\n",
       " '__name__',\n",
       " '__package__',\n",
       " '__spec__',\n",
       " '_escape_attrib',\n",
       " '_escape_attrib_html',\n",
       " '_escape_cdata',\n",
       " '_get_writer',\n",
       " '_namespace_map',\n",
       " '_namespaces',\n",
       " '_raise_serialization_error',\n",
       " '_sentinel',\n",
       " '_serialize',\n",
       " '_serialize_html',\n",
       " '_serialize_text',\n",
       " '_serialize_xml',\n",
       " 'collections',\n",
       " 'contextlib',\n",
       " 'dump',\n",
       " 'fromstring',\n",
       " 'fromstringlist',\n",
       " 'io',\n",
       " 'iselement',\n",
       " 'iterparse',\n",
       " 'parse',\n",
       " 're',\n",
       " 'register_namespace',\n",
       " 'sys',\n",
       " 'tostring',\n",
       " 'tostringlist',\n",
       " 'warnings']"
      ]
     },
     "execution_count": 5,
     "metadata": {},
     "output_type": "execute_result"
    }
   ],
   "source": [
    "dir(ET)  # parse 특정 xml의 구조를 불러옴 "
   ]
  },
  {
   "cell_type": "code",
   "execution_count": 19,
   "metadata": {},
   "outputs": [],
   "source": [
    "#src = 'VOC/2007/Annotaions/000004.xml'\n",
    "src = 'E:/AI_Innovation/1026/VOC2007/Annotations/000009.xml'"
   ]
  },
  {
   "cell_type": "code",
   "execution_count": 21,
   "metadata": {},
   "outputs": [],
   "source": [
    "tree = ET.parse(src)   # ElementTree 만들기 "
   ]
  },
  {
   "cell_type": "code",
   "execution_count": 22,
   "metadata": {},
   "outputs": [
    {
     "data": {
      "text/plain": [
       "['__class__',\n",
       " '__delattr__',\n",
       " '__dict__',\n",
       " '__dir__',\n",
       " '__doc__',\n",
       " '__eq__',\n",
       " '__format__',\n",
       " '__ge__',\n",
       " '__getattribute__',\n",
       " '__gt__',\n",
       " '__hash__',\n",
       " '__init__',\n",
       " '__init_subclass__',\n",
       " '__le__',\n",
       " '__lt__',\n",
       " '__module__',\n",
       " '__ne__',\n",
       " '__new__',\n",
       " '__reduce__',\n",
       " '__reduce_ex__',\n",
       " '__repr__',\n",
       " '__setattr__',\n",
       " '__sizeof__',\n",
       " '__str__',\n",
       " '__subclasshook__',\n",
       " '__weakref__',\n",
       " '_root',\n",
       " '_setroot',\n",
       " 'find',\n",
       " 'findall',\n",
       " 'findtext',\n",
       " 'getiterator',\n",
       " 'getroot',\n",
       " 'iter',\n",
       " 'iterfind',\n",
       " 'parse',\n",
       " 'write',\n",
       " 'write_c14n']"
      ]
     },
     "execution_count": 22,
     "metadata": {},
     "output_type": "execute_result"
    }
   ],
   "source": [
    "dir(tree) "
   ]
  },
  {
   "cell_type": "code",
   "execution_count": 24,
   "metadata": {},
   "outputs": [],
   "source": [
    "root = tree.getroot()"
   ]
  },
  {
   "cell_type": "code",
   "execution_count": 25,
   "metadata": {},
   "outputs": [
    {
     "data": {
      "text/plain": [
       "<Element 'annotation' at 0x0000024D73569728>"
      ]
     },
     "execution_count": 25,
     "metadata": {},
     "output_type": "execute_result"
    }
   ],
   "source": [
    "root  # Annotaion부터 시작 "
   ]
  },
  {
   "cell_type": "code",
   "execution_count": 26,
   "metadata": {},
   "outputs": [
    {
     "data": {
      "text/plain": [
       "['__class__',\n",
       " '__copy__',\n",
       " '__deepcopy__',\n",
       " '__delattr__',\n",
       " '__delitem__',\n",
       " '__dir__',\n",
       " '__doc__',\n",
       " '__eq__',\n",
       " '__format__',\n",
       " '__ge__',\n",
       " '__getattribute__',\n",
       " '__getitem__',\n",
       " '__getstate__',\n",
       " '__gt__',\n",
       " '__hash__',\n",
       " '__init__',\n",
       " '__init_subclass__',\n",
       " '__le__',\n",
       " '__len__',\n",
       " '__lt__',\n",
       " '__ne__',\n",
       " '__new__',\n",
       " '__reduce__',\n",
       " '__reduce_ex__',\n",
       " '__repr__',\n",
       " '__setattr__',\n",
       " '__setitem__',\n",
       " '__setstate__',\n",
       " '__sizeof__',\n",
       " '__str__',\n",
       " '__subclasshook__',\n",
       " 'append',\n",
       " 'attrib',\n",
       " 'clear',\n",
       " 'extend',\n",
       " 'find',\n",
       " 'findall',\n",
       " 'findtext',\n",
       " 'get',\n",
       " 'getchildren',\n",
       " 'getiterator',\n",
       " 'insert',\n",
       " 'items',\n",
       " 'iter',\n",
       " 'iterfind',\n",
       " 'itertext',\n",
       " 'keys',\n",
       " 'makeelement',\n",
       " 'remove',\n",
       " 'set',\n",
       " 'tag',\n",
       " 'tail',\n",
       " 'text']"
      ]
     },
     "execution_count": 26,
     "metadata": {},
     "output_type": "execute_result"
    }
   ],
   "source": [
    "dir(root)  "
   ]
  },
  {
   "cell_type": "code",
   "execution_count": 27,
   "metadata": {},
   "outputs": [
    {
     "data": {
      "text/plain": [
       "<function Element.iter>"
      ]
     },
     "execution_count": 27,
     "metadata": {},
     "output_type": "execute_result"
    }
   ],
   "source": [
    "root.iter  #iterator 만들어주는 것이 있음"
   ]
  },
  {
   "cell_type": "code",
   "execution_count": 28,
   "metadata": {},
   "outputs": [
    {
     "name": "stdout",
     "output_type": "stream",
     "text": [
      "<Element 'annotation' at 0x0000024D73569728>\n",
      "<Element 'folder' at 0x0000024D7364F7C8>\n",
      "<Element 'filename' at 0x0000024D7364F818>\n",
      "<Element 'source' at 0x0000024D7364F868>\n",
      "<Element 'database' at 0x0000024D7364F8B8>\n",
      "<Element 'annotation' at 0x0000024D7364F908>\n",
      "<Element 'image' at 0x0000024D7364F958>\n",
      "<Element 'flickrid' at 0x0000024D7364F9A8>\n",
      "<Element 'owner' at 0x0000024D7364F9F8>\n",
      "<Element 'flickrid' at 0x0000024D7364FA48>\n",
      "<Element 'name' at 0x0000024D7364FA98>\n",
      "<Element 'size' at 0x0000024D7364FAE8>\n",
      "<Element 'width' at 0x0000024D7364FB38>\n",
      "<Element 'height' at 0x0000024D7364FB88>\n",
      "<Element 'depth' at 0x0000024D7364FBD8>\n",
      "<Element 'segmented' at 0x0000024D7364FC28>\n",
      "<Element 'object' at 0x0000024D7364FC78>\n",
      "<Element 'name' at 0x0000024D7364FCC8>\n",
      "<Element 'pose' at 0x0000024D7364FD18>\n",
      "<Element 'truncated' at 0x0000024D7364FD68>\n",
      "<Element 'difficult' at 0x0000024D7364FDB8>\n",
      "<Element 'bndbox' at 0x0000024D7364FE08>\n",
      "<Element 'xmin' at 0x0000024D7364FE58>\n",
      "<Element 'ymin' at 0x0000024D7364FEA8>\n",
      "<Element 'xmax' at 0x0000024D7364FEF8>\n",
      "<Element 'ymax' at 0x0000024D7364FF48>\n",
      "<Element 'object' at 0x0000024D7364FF98>\n",
      "<Element 'name' at 0x0000024D73646048>\n",
      "<Element 'pose' at 0x0000024D73646098>\n",
      "<Element 'truncated' at 0x0000024D736460E8>\n",
      "<Element 'difficult' at 0x0000024D73646138>\n",
      "<Element 'bndbox' at 0x0000024D73646188>\n",
      "<Element 'xmin' at 0x0000024D736461D8>\n",
      "<Element 'ymin' at 0x0000024D73646228>\n",
      "<Element 'xmax' at 0x0000024D73646278>\n",
      "<Element 'ymax' at 0x0000024D736462C8>\n",
      "<Element 'object' at 0x0000024D73646318>\n",
      "<Element 'name' at 0x0000024D73646368>\n",
      "<Element 'pose' at 0x0000024D736463B8>\n",
      "<Element 'truncated' at 0x0000024D73646408>\n",
      "<Element 'difficult' at 0x0000024D73646458>\n",
      "<Element 'bndbox' at 0x0000024D736464A8>\n",
      "<Element 'xmin' at 0x0000024D736464F8>\n",
      "<Element 'ymin' at 0x0000024D73646548>\n",
      "<Element 'xmax' at 0x0000024D73646598>\n",
      "<Element 'ymax' at 0x0000024D736465E8>\n",
      "<Element 'object' at 0x0000024D73646638>\n",
      "<Element 'name' at 0x0000024D73646688>\n",
      "<Element 'pose' at 0x0000024D736466D8>\n",
      "<Element 'truncated' at 0x0000024D73646728>\n",
      "<Element 'difficult' at 0x0000024D73646778>\n",
      "<Element 'bndbox' at 0x0000024D736467C8>\n",
      "<Element 'xmin' at 0x0000024D73646818>\n",
      "<Element 'ymin' at 0x0000024D73646868>\n",
      "<Element 'xmax' at 0x0000024D736468B8>\n",
      "<Element 'ymax' at 0x0000024D73646908>\n"
     ]
    }
   ],
   "source": [
    "for i in root.iter(): \n",
    "    print(i)  #annotation부터 순회하가면서 만들어 감, 'annotaion'을 tag라고 함 "
   ]
  },
  {
   "cell_type": "code",
   "execution_count": 29,
   "metadata": {},
   "outputs": [
    {
     "name": "stdout",
     "output_type": "stream",
     "text": [
      "<Element 'object' at 0x0000024D7364FC78>\n",
      "<Element 'object' at 0x0000024D7364FF98>\n",
      "<Element 'object' at 0x0000024D73646318>\n",
      "<Element 'object' at 0x0000024D73646638>\n"
     ]
    }
   ],
   "source": [
    "for i in root.iter('object'): \n",
    "    print(i)  # object 태그 개수, "
   ]
  },
  {
   "cell_type": "code",
   "execution_count": 30,
   "metadata": {},
   "outputs": [
    {
     "name": "stdout",
     "output_type": "stream",
     "text": [
      "0\n",
      "0\n",
      "0\n",
      "0\n"
     ]
    }
   ],
   "source": [
    "for i in root.iter('object'): \n",
    "    print(i.find('difficult').text)  # object 안의 difficult 정보를 가져오고 싶다면?"
   ]
  },
  {
   "cell_type": "markdown",
   "metadata": {},
   "source": [
    "실습 2"
   ]
  },
  {
   "cell_type": "code",
   "execution_count": null,
   "metadata": {},
   "outputs": [],
   "source": [
    "import xml.etree.ElementTree as ET  "
   ]
  },
  {
   "cell_type": "code",
   "execution_count": 100,
   "metadata": {},
   "outputs": [],
   "source": [
    "# 전체 데이터 가져오기 \n",
    "from pathlib import Path "
   ]
  },
  {
   "cell_type": "code",
   "execution_count": 38,
   "metadata": {},
   "outputs": [],
   "source": [
    "src = 'E:/AI_Innovation/1026/VOC2007/Annotations/000012.xml'"
   ]
  },
  {
   "cell_type": "code",
   "execution_count": 39,
   "metadata": {},
   "outputs": [],
   "source": [
    "tree1 = ET.parse(src)\n",
    "root = tree1.getroot() "
   ]
  },
  {
   "cell_type": "code",
   "execution_count": null,
   "metadata": {},
   "outputs": [],
   "source": [
    "- 공백을 어떻게 처리했느냐에 따라 파일탐색을 해야 함 \n",
    "- 특수문자는 어떻게 처리해야할까? "
   ]
  },
  {
   "cell_type": "code",
   "execution_count": 49,
   "metadata": {},
   "outputs": [],
   "source": [
    "classes = {\n",
    "    'aeroplane' : 0, \n",
    "    'bicycle' : 1, \n",
    "    'boat': 2, \n",
    "    'bottle' : 3, \n",
    "    'buse' : 4, \n",
    "    'car': 5, \n",
    "    'cat': 6, \n",
    "    'cow': 7, \n",
    "    'dining table': 8, \n",
    "    'dog': 11, \n",
    "    'horse': 12, \n",
    "    'motorbike': 13,\n",
    "    'people': 14,\n",
    "    'pottle plant': 15, \n",
    "    'sheep' : 16, \n",
    "    'sofa': 17, \n",
    "    'train': 18, \n",
    "    'tV/Monitor': 19\n",
    "}"
   ]
  },
  {
   "cell_type": "code",
   "execution_count": 106,
   "metadata": {},
   "outputs": [
    {
     "ename": "AttributeError",
     "evalue": "type object 'Path' has no attribute 'pathlib'",
     "output_type": "error",
     "traceback": [
      "\u001b[1;31m---------------------------------------------------------------------------\u001b[0m",
      "\u001b[1;31mAttributeError\u001b[0m                            Traceback (most recent call last)",
      "\u001b[1;32m<ipython-input-106-027408314e87>\u001b[0m in \u001b[0;36m<module>\u001b[1;34m()\u001b[0m\n\u001b[1;32m----> 1\u001b[1;33m \u001b[0mpath\u001b[0m \u001b[1;33m=\u001b[0m \u001b[0mPath\u001b[0m\u001b[1;33m.\u001b[0m\u001b[0mpathlib\u001b[0m\u001b[1;33m(\u001b[0m\u001b[1;34m'E:/AI_Innovation/1026/VOC2007/Annotations'\u001b[0m\u001b[1;33m)\u001b[0m\u001b[1;33m\u001b[0m\u001b[1;33m\u001b[0m\u001b[0m\n\u001b[0m",
      "\u001b[1;31mAttributeError\u001b[0m: type object 'Path' has no attribute 'pathlib'"
     ]
    }
   ],
   "source": [
    "path = Path.pathlib('E:/AI_Innovation/1026/VOC2007/Annotations')"
   ]
  },
  {
   "cell_type": "code",
   "execution_count": 110,
   "metadata": {},
   "outputs": [
    {
     "ename": "NameError",
     "evalue": "name 'self' is not defined",
     "output_type": "error",
     "traceback": [
      "\u001b[1;31m---------------------------------------------------------------------------\u001b[0m",
      "\u001b[1;31mNameError\u001b[0m                                 Traceback (most recent call last)",
      "\u001b[1;32m<ipython-input-110-f71bea28f3a3>\u001b[0m in \u001b[0;36m<module>\u001b[1;34m()\u001b[0m\n\u001b[0;32m      1\u001b[0m \u001b[1;31m# 방법 1\u001b[0m\u001b[1;33m\u001b[0m\u001b[1;33m\u001b[0m\u001b[1;33m\u001b[0m\u001b[0m\n\u001b[1;32m----> 2\u001b[1;33m \u001b[1;32mfor\u001b[0m \u001b[0mi\u001b[0m \u001b[1;32min\u001b[0m \u001b[0mPath\u001b[0m\u001b[1;33m.\u001b[0m\u001b[0miterdir\u001b[0m\u001b[1;33m(\u001b[0m\u001b[0mself\u001b[0m\u001b[1;33m)\u001b[0m \u001b[1;33m:\u001b[0m\u001b[1;33m\u001b[0m\u001b[1;33m\u001b[0m\u001b[0m\n\u001b[0m\u001b[0;32m      3\u001b[0m     \u001b[0mprint\u001b[0m\u001b[1;33m(\u001b[0m\u001b[0mi\u001b[0m\u001b[1;33m)\u001b[0m  \u001b[1;31m# 파일명 가져오기\u001b[0m\u001b[1;33m\u001b[0m\u001b[1;33m\u001b[0m\u001b[0m\n\u001b[0;32m      4\u001b[0m     \u001b[1;31m# 자기 환경에 맞게 / or |로 쓴다.\u001b[0m\u001b[1;33m\u001b[0m\u001b[1;33m\u001b[0m\u001b[1;33m\u001b[0m\u001b[0m\n\u001b[0;32m      5\u001b[0m     \u001b[1;31m#print(i.split('/')[-1])  #파일이름만 가져오기\u001b[0m\u001b[1;33m\u001b[0m\u001b[1;33m\u001b[0m\u001b[1;33m\u001b[0m\u001b[0m\n",
      "\u001b[1;31mNameError\u001b[0m: name 'self' is not defined"
     ]
    }
   ],
   "source": [
    "# 방법 1 \n",
    "for i in Path.iterdir() :\n",
    "    print(i)  # 파일명 가져오기\n",
    "    # 자기 환경에 맞게 / or |로 쓴다. \n",
    "    #print(i.split('/')[-1])  #파일이름만 가져오기 \n",
    "    \n",
    "    # 만약 i.spilt() 없으면 spilt를 문자열로 바꾼다. \n",
    "    print(str(i).split('/')[-1].split('.')[0])  # '.'으로 바꾸고 첫번째 것"
   ]
  },
  {
   "cell_type": "code",
   "execution_count": 95,
   "metadata": {},
   "outputs": [
    {
     "ename": "NameError",
     "evalue": "name 'path' is not defined",
     "output_type": "error",
     "traceback": [
      "\u001b[1;31m---------------------------------------------------------------------------\u001b[0m",
      "\u001b[1;31mNameError\u001b[0m                                 Traceback (most recent call last)",
      "\u001b[1;32m<ipython-input-95-a8fcfd4be765>\u001b[0m in \u001b[0;36m<module>\u001b[1;34m()\u001b[0m\n\u001b[0;32m      1\u001b[0m \u001b[1;31m# 방법 2\u001b[0m\u001b[1;33m\u001b[0m\u001b[1;33m\u001b[0m\u001b[1;33m\u001b[0m\u001b[0m\n\u001b[1;32m----> 2\u001b[1;33m \u001b[0mimgs\u001b[0m \u001b[1;33m=\u001b[0m \u001b[1;33m[\u001b[0m\u001b[0mstr\u001b[0m\u001b[1;33m(\u001b[0m\u001b[0mi\u001b[0m\u001b[1;33m)\u001b[0m\u001b[1;33m.\u001b[0m\u001b[0msplit\u001b[0m\u001b[1;33m(\u001b[0m\u001b[1;34m'/'\u001b[0m\u001b[1;33m)\u001b[0m\u001b[1;33m[\u001b[0m\u001b[1;33m-\u001b[0m\u001b[1;36m1\u001b[0m\u001b[1;33m]\u001b[0m\u001b[1;33m.\u001b[0m\u001b[0msplit\u001b[0m\u001b[1;33m(\u001b[0m\u001b[1;34m'.'\u001b[0m\u001b[1;33m)\u001b[0m\u001b[1;33m[\u001b[0m\u001b[1;36m0\u001b[0m\u001b[1;33m]\u001b[0m \u001b[1;32mfor\u001b[0m \u001b[0mi\u001b[0m \u001b[1;32min\u001b[0m \u001b[0mpath\u001b[0m\u001b[1;33m.\u001b[0m\u001b[0miterdir\u001b[0m\u001b[1;33m(\u001b[0m\u001b[1;33m)\u001b[0m \u001b[1;33m]\u001b[0m\u001b[1;33m\u001b[0m\u001b[1;33m\u001b[0m\u001b[0m\n\u001b[0m",
      "\u001b[1;31mNameError\u001b[0m: name 'path' is not defined"
     ]
    }
   ],
   "source": [
    "# 방법 2\n",
    "imgs = [str(i).split('/')[-1].split('.')[0] for i in path.iterdir() ]"
   ]
  },
  {
   "cell_type": "code",
   "execution_count": 48,
   "metadata": {},
   "outputs": [],
   "source": [
    "def annote(img_id): \n",
    "    src = f'E:/AI_Innovation/1026/VOC2007/Annotations/00000{img_id}.xml'\n",
    "    tree = ET.parse(src)\n",
    "    root = tree.getroot() \n",
    "    for i in root.iter('object'): \n",
    "        difficult = i.find('difficult').text  \n",
    "        cls = i.find('name').text\n",
    "        # difficult를 숫자로 바꾸자. \n",
    "        if cls not in classes or int(difficult)==1 :  # name이름이 classes 안에 없거나 or difficult 텍스트안에 없을 경우 \n",
    "            continue \n",
    "        cls_id = classes[cls]\n",
    "        xmlbox = i.find('bndbox')  \n",
    "        # xmlbox의 bndbox가 있는지 찾자. \n",
    "        # xml은 모든 데이터를 text로 가져오기에 int로 변환 \n",
    "        xmin = int(xmlbox.find('xmin').text) \n",
    "        ymin = int(xmlbox.find('ymin').text)\n",
    "        xmax = int(xmlbox.find('xmax'), text)\n",
    "        ymax = int(xmlbox.find('ymax'), text)\n",
    "        print((xmin,ymin), (xmax,ymax))"
   ]
  },
  {
   "cell_type": "code",
   "execution_count": 92,
   "metadata": {},
   "outputs": [
    {
     "ename": "NameError",
     "evalue": "name 'img' is not defined",
     "output_type": "error",
     "traceback": [
      "\u001b[1;31m---------------------------------------------------------------------------\u001b[0m",
      "\u001b[1;31mNameError\u001b[0m                                 Traceback (most recent call last)",
      "\u001b[1;32m<ipython-input-92-d93e3be4c99d>\u001b[0m in \u001b[0;36m<module>\u001b[1;34m()\u001b[0m\n\u001b[1;32m----> 1\u001b[1;33m \u001b[0mannote\u001b[0m\u001b[1;33m(\u001b[0m\u001b[0mimg\u001b[0m\u001b[1;33m[\u001b[0m\u001b[1;36m4\u001b[0m\u001b[1;33m]\u001b[0m\u001b[1;33m)\u001b[0m  \u001b[1;31m# 1번 bicivyle 이렇게 있다.\u001b[0m\u001b[1;33m\u001b[0m\u001b[1;33m\u001b[0m\u001b[0m\n\u001b[0m",
      "\u001b[1;31mNameError\u001b[0m: name 'img' is not defined"
     ]
    }
   ],
   "source": [
    "annote(img[4])  # 1번 bicivyle 이렇게 있다. "
   ]
  },
  {
   "cell_type": "code",
   "execution_count": 52,
   "metadata": {},
   "outputs": [],
   "source": [
    "# 그림 불러오기 \n",
    "import matplotlib.pyplot as plt\n",
    "import matplotlib.patches as mpt "
   ]
  },
  {
   "cell_type": "code",
   "execution_count": 94,
   "metadata": {},
   "outputs": [
    {
     "ename": "NameError",
     "evalue": "name 'imgs' is not defined",
     "output_type": "error",
     "traceback": [
      "\u001b[1;31m---------------------------------------------------------------------------\u001b[0m",
      "\u001b[1;31mNameError\u001b[0m                                 Traceback (most recent call last)",
      "\u001b[1;32m<ipython-input-94-ca6e3b49461f>\u001b[0m in \u001b[0;36m<module>\u001b[1;34m()\u001b[0m\n\u001b[1;32m----> 1\u001b[1;33m \u001b[1;34m'E:/AI_Innovation/1026/VOC2007/JPEGImages/'\u001b[0m \u001b[1;33m+\u001b[0m \u001b[0mimgs\u001b[0m\u001b[1;33m[\u001b[0m\u001b[1;36m0\u001b[0m\u001b[1;33m]\u001b[0m\u001b[1;33m+\u001b[0m \u001b[1;34m'.jpg'\u001b[0m\u001b[1;33m\u001b[0m\u001b[1;33m\u001b[0m\u001b[0m\n\u001b[0m",
      "\u001b[1;31mNameError\u001b[0m: name 'imgs' is not defined"
     ]
    }
   ],
   "source": [
    "'E:/AI_Innovation/1026/VOC2007/JPEGImages/' + imgs[0]+ '.jpg'"
   ]
  },
  {
   "cell_type": "code",
   "execution_count": null,
   "metadata": {},
   "outputs": [],
   "source": [
    "im = plt.imshow('E:/AI_Innovation/1026/VOC2007/JPEGImages/' + imga[0]+ '.jpg')\n",
    "plt.imshow(im)\n",
    "\n"
   ]
  },
  {
   "cell_type": "markdown",
   "metadata": {},
   "source": [
    "---------------------------------------------------------------------------------"
   ]
  },
  {
   "cell_type": "code",
   "execution_count": 62,
   "metadata": {},
   "outputs": [],
   "source": [
    "import tensorflow as tf "
   ]
  },
  {
   "cell_type": "code",
   "execution_count": null,
   "metadata": {},
   "outputs": [],
   "source": [
    "# Classification 용도 \n",
    "tf.keras.preprocessing.image_dataset_from_directory()  # tf.data.Dataset 결과 \n",
    "\n",
    "# Classification + 이외에도 다양한 곳에 쓰는 용도 (numpy)\n",
    "# class_mode를 바꿔서 복잡하게 detection 형태로 사용할 수 있다\n",
    "tf.keras.preprocessing.image.ImageDataGenerator"
   ]
  },
  {
   "cell_type": "code",
   "execution_count": null,
   "metadata": {},
   "outputs": [],
   "source": [
    "- flow (memory - numpy, tensor)\n",
    "- flow_from_directory \n",
    "- flow_from_dataframe   \n"
   ]
  },
  {
   "cell_type": "code",
   "execution_count": null,
   "metadata": {},
   "outputs": [],
   "source": []
  },
  {
   "cell_type": "code",
   "execution_count": 69,
   "metadata": {},
   "outputs": [],
   "source": [
    "import tensorflow as tf"
   ]
  },
  {
   "cell_type": "code",
   "execution_count": 78,
   "metadata": {},
   "outputs": [
    {
     "name": "stderr",
     "output_type": "stream",
     "text": [
      "C:\\Users\\www\\Anaconda3\\lib\\site-packages\\sklearn\\linear_model\\least_angle.py:35: DeprecationWarning: `np.float` is a deprecated alias for the builtin `float`. To silence this warning, use `float` by itself. Doing this will not modify any behavior and is safe. If you specifically wanted the numpy scalar type, use `np.float64` here.\n",
      "Deprecated in NumPy 1.20; for more details and guidance: https://numpy.org/devdocs/release/1.20.0-notes.html#deprecations\n",
      "  eps=np.finfo(np.float).eps,\n",
      "C:\\Users\\www\\Anaconda3\\lib\\site-packages\\sklearn\\linear_model\\least_angle.py:597: DeprecationWarning: `np.float` is a deprecated alias for the builtin `float`. To silence this warning, use `float` by itself. Doing this will not modify any behavior and is safe. If you specifically wanted the numpy scalar type, use `np.float64` here.\n",
      "Deprecated in NumPy 1.20; for more details and guidance: https://numpy.org/devdocs/release/1.20.0-notes.html#deprecations\n",
      "  eps=np.finfo(np.float).eps, copy_X=True, fit_path=True,\n",
      "C:\\Users\\www\\Anaconda3\\lib\\site-packages\\sklearn\\linear_model\\least_angle.py:836: DeprecationWarning: `np.float` is a deprecated alias for the builtin `float`. To silence this warning, use `float` by itself. Doing this will not modify any behavior and is safe. If you specifically wanted the numpy scalar type, use `np.float64` here.\n",
      "Deprecated in NumPy 1.20; for more details and guidance: https://numpy.org/devdocs/release/1.20.0-notes.html#deprecations\n",
      "  eps=np.finfo(np.float).eps, copy_X=True, fit_path=True,\n",
      "C:\\Users\\www\\Anaconda3\\lib\\site-packages\\sklearn\\linear_model\\least_angle.py:862: DeprecationWarning: `np.float` is a deprecated alias for the builtin `float`. To silence this warning, use `float` by itself. Doing this will not modify any behavior and is safe. If you specifically wanted the numpy scalar type, use `np.float64` here.\n",
      "Deprecated in NumPy 1.20; for more details and guidance: https://numpy.org/devdocs/release/1.20.0-notes.html#deprecations\n",
      "  eps=np.finfo(np.float).eps, positive=False):\n",
      "C:\\Users\\www\\Anaconda3\\lib\\site-packages\\sklearn\\linear_model\\least_angle.py:1097: DeprecationWarning: `np.float` is a deprecated alias for the builtin `float`. To silence this warning, use `float` by itself. Doing this will not modify any behavior and is safe. If you specifically wanted the numpy scalar type, use `np.float64` here.\n",
      "Deprecated in NumPy 1.20; for more details and guidance: https://numpy.org/devdocs/release/1.20.0-notes.html#deprecations\n",
      "  max_n_alphas=1000, n_jobs=None, eps=np.finfo(np.float).eps,\n",
      "C:\\Users\\www\\Anaconda3\\lib\\site-packages\\sklearn\\linear_model\\least_angle.py:1344: DeprecationWarning: `np.float` is a deprecated alias for the builtin `float`. To silence this warning, use `float` by itself. Doing this will not modify any behavior and is safe. If you specifically wanted the numpy scalar type, use `np.float64` here.\n",
      "Deprecated in NumPy 1.20; for more details and guidance: https://numpy.org/devdocs/release/1.20.0-notes.html#deprecations\n",
      "  max_n_alphas=1000, n_jobs=None, eps=np.finfo(np.float).eps,\n",
      "C:\\Users\\www\\Anaconda3\\lib\\site-packages\\sklearn\\linear_model\\least_angle.py:1480: DeprecationWarning: `np.float` is a deprecated alias for the builtin `float`. To silence this warning, use `float` by itself. Doing this will not modify any behavior and is safe. If you specifically wanted the numpy scalar type, use `np.float64` here.\n",
      "Deprecated in NumPy 1.20; for more details and guidance: https://numpy.org/devdocs/release/1.20.0-notes.html#deprecations\n",
      "  eps=np.finfo(np.float).eps, copy_X=True, positive=False):\n",
      "C:\\Users\\www\\Anaconda3\\lib\\site-packages\\sklearn\\linear_model\\randomized_l1.py:152: DeprecationWarning: `np.float` is a deprecated alias for the builtin `float`. To silence this warning, use `float` by itself. Doing this will not modify any behavior and is safe. If you specifically wanted the numpy scalar type, use `np.float64` here.\n",
      "Deprecated in NumPy 1.20; for more details and guidance: https://numpy.org/devdocs/release/1.20.0-notes.html#deprecations\n",
      "  precompute=False, eps=np.finfo(np.float).eps,\n",
      "C:\\Users\\www\\Anaconda3\\lib\\site-packages\\sklearn\\linear_model\\randomized_l1.py:320: DeprecationWarning: `np.float` is a deprecated alias for the builtin `float`. To silence this warning, use `float` by itself. Doing this will not modify any behavior and is safe. If you specifically wanted the numpy scalar type, use `np.float64` here.\n",
      "Deprecated in NumPy 1.20; for more details and guidance: https://numpy.org/devdocs/release/1.20.0-notes.html#deprecations\n",
      "  eps=np.finfo(np.float).eps, random_state=None,\n",
      "C:\\Users\\www\\Anaconda3\\lib\\site-packages\\sklearn\\linear_model\\randomized_l1.py:580: DeprecationWarning: `np.float` is a deprecated alias for the builtin `float`. To silence this warning, use `float` by itself. Doing this will not modify any behavior and is safe. If you specifically wanted the numpy scalar type, use `np.float64` here.\n",
      "Deprecated in NumPy 1.20; for more details and guidance: https://numpy.org/devdocs/release/1.20.0-notes.html#deprecations\n",
      "  eps=4 * np.finfo(np.float).eps, n_jobs=None,\n"
     ]
    }
   ],
   "source": [
    "from sklearn.linear_model import LinearRegression  # "
   ]
  },
  {
   "cell_type": "code",
   "execution_count": 70,
   "metadata": {},
   "outputs": [],
   "source": [
    "leakyRelu = tf.keras.layers.LeakyReLU(alpha=0.1)   # activations에 leaky ReLRu 없음. layers에 있음 "
   ]
  },
  {
   "cell_type": "code",
   "execution_count": 84,
   "metadata": {},
   "outputs": [],
   "source": [
    "input_ = tf.keras.Input((448,448,3))  #VOC data봤더니, 크기 자체가 224보다 큰 것들이였다. \n",
    "x = tf.keras.layers.Conv2D(64, 7, 2, padding='same',activation=leakyRelu)(input_)   # leaky ReLRu를 썼음 \n",
    "x = tf.keras.layers.MaxPooling2D(2,2)(x)   # Maxpooling \n",
    "x = tf.keras.layers.Conv2D(192, 3, padding='same',activation=leakyRelu)(x)  #convolution -> 여기까지 아직 padding 안했음 \n",
    "x = tf.keras.layers.MaxPooling2D(2,2)(x)   # Maxpooling \n",
    "\n",
    "x = tf.keras.layers.Conv2D(128, 1, padding='same',activation=leakyRelu)(x)  \n",
    "x = tf.keras.layers.Conv2D(256, 1, padding='same',activation=leakyRelu)(x)\n",
    "x = tf.keras.layers.Conv2D(256, 1, padding='same',activation=leakyRelu)(x)\n",
    "x = tf.keras.layers.Conv2D(512, 3, padding='same',activation=leakyRelu)(x)\n",
    "\n",
    "x = tf.keras.layers.MaxPooling2D(2,2)(x) \n",
    "\n",
    "x = tf.keras.layers.Conv2D(256, 1, padding='same',activation=leakyRelu)(x)  # 1x1x256,3x3x512의 4번 연속 \n",
    "x = tf.keras.layers.Conv2D(512, 3, padding='same',activation=leakyRelu)(x)\n",
    "x = tf.keras.layers.Conv2D(256, 1, padding='same',activation=leakyRelu)(x)\n",
    "x = tf.keras.layers.Conv2D(512, 3, padding='same',activation=leakyRelu)(x)\n",
    "x = tf.keras.layers.Conv2D(256, 1, padding='same',activation=leakyRelu)(x)\n",
    "x = tf.keras.layers.Conv2D(512, 3, padding='same',activation=leakyRelu)(x)\n",
    "x = tf.keras.layers.Conv2D(256, 1, padding='same',activation=leakyRelu)(x)\n",
    "x = tf.keras.layers.Conv2D(512, 3, padding='same',activation=leakyRelu)(x)\n",
    "\n",
    "x = tf.keras.layers.Conv2D(512, 1, padding='same',activation=leakyRelu)(x)   \n",
    "x = tf.keras.layers.Conv2D(1024, 3, padding='same',activation=leakyRelu)(x)\n",
    "\n",
    "x = tf.keras.layers.MaxPooling2D(2,2)(x) \n",
    "\n",
    "x = tf.keras.layers.Conv2D(512, 1, padding='same',activation=leakyRelu)(x)  # 1x1x512, 3x3x1024의 2번 연속 \n",
    "x = tf.keras.layers.Conv2D(1024, 3, padding='same',activation=leakyRelu)(x)\n",
    "x = tf.keras.layers.Conv2D(512, 1, padding='same',activation=leakyRelu)(x)\n",
    "x = tf.keras.layers.Conv2D(1024, 3, padding='same',activation=leakyRelu)(x)\n",
    "\n",
    "x = tf.keras.layers.Conv2D(1024, 3,2, activation=leakyRelu)(x)\n",
    "x = tf.keras.layers.Conv2D(1024, 3, padding='same', activation=leakyRelu)(x)\n",
    "x = tf.keras.layers.Conv2D(1024, 3, padding='same', activation=tf.keras.activations.linear)(x) \n",
    "\n",
    "# 논문에서는 맨 마지막에 final layer에 대해서는 Linear activation function썼다. \n"
   ]
  },
  {
   "cell_type": "code",
   "execution_count": 85,
   "metadata": {},
   "outputs": [],
   "source": [
    "x = tf.keras.layers.Flatten()(x)"
   ]
  },
  {
   "cell_type": "code",
   "execution_count": null,
   "metadata": {},
   "outputs": [],
   "source": [
    "x = tf.keras.layers.Dense(4096, activation=leakyRelu)(x) \n",
    "x = tf.keras.layers.Dropout(0.5)(x)  \n",
    "x = tf.keras.layers.Dense(1470, activation='sigmoid')(x)  #input_shape = [7, 7, 1470]\n",
    "x = tf.keras.layers.Reshape((7,7,30))(x)  #output_shape = [7, 7, 30] \n",
    "\n",
    "# 새로운 배열의 전체 크기는 반드시 변경되어야 함. input_shape -> output_shape으로.          \n",
    "# 맨 끝에 쓰는 activation쓰는 이유는 값을 0~1사이의 확률로 만들기 위해  "
   ]
  },
  {
   "cell_type": "code",
   "execution_count": null,
   "metadata": {},
   "outputs": [],
   "source": [
    "model = tf.keras.models.Mode(input_, x)"
   ]
  },
  {
   "cell_type": "code",
   "execution_count": null,
   "metadata": {},
   "outputs": [],
   "source": [
    "model.summary() "
   ]
  }
 ],
 "metadata": {
  "kernelspec": {
   "display_name": "Python 3",
   "language": "python",
   "name": "python3"
  },
  "language_info": {
   "codemirror_mode": {
    "name": "ipython",
    "version": 3
   },
   "file_extension": ".py",
   "mimetype": "text/x-python",
   "name": "python",
   "nbconvert_exporter": "python",
   "pygments_lexer": "ipython3",
   "version": "3.7.3"
  }
 },
 "nbformat": 4,
 "nbformat_minor": 2
}
